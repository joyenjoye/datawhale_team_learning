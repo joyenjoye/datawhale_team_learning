{
 "cells": [
  {
   "cell_type": "markdown",
   "id": "71ddd6d0-46dc-4813-934e-9c89f95d67e6",
   "metadata": {},
   "source": [
    "# Task 10: Graph Convolutional Networks"
   ]
  },
  {
   "cell_type": "markdown",
   "id": "362fb9a5-cdd8-40bf-a818-52e6f71156de",
   "metadata": {},
   "source": [
    "Assume we have a graph $G$\n",
    "- $V$ is the vertex set\n",
    "- $\\mathbf{A}$ is the adjacency matrix(assume binary)\n",
    "- $\\mathbf{X} \\in \\mathbb{R}^{m |V|}$is a matrix of node features\n",
    "- $v$ is a node in $V$ and $\\mathrm{N}(v)$ is the set of neighbors of $v$.\n",
    "\n",
    "\n",
    "## A Single GNN layer\n",
    "\n",
    "A single GNN layer consists of the following 3 steps:\n",
    "- **Message computation**. Each node will create a message which will be sent to other nodes later. \n",
    "\n",
    "$$\\mathbf{m}_u^{(l)}=\\text{MSG}^{(l)}\\left(\\mathbf{h}_u^{(l-1)}\\right)$$\n",
    "\n",
    "Where $h_u^{(l-1)}$ is the embedding/features for input nodes. $m_u^{(l)}$ is the message created for layer $l$.\n",
    "- **Aggregation**. Each node will aggregate the message from its' neighbors.\n",
    "\n",
    "- **Nonlinear Transformation**.  Perfrom nonlinear transformation on message or aggregation to add expressiveness.\n",
    "\n",
    "$$\\mathbf{h}_v^{(l)} = \\text{AGG}^{(l)}\\left(\\{\\mathbf{m}_u^{(l)},u\\in N(v)\\}\\right)$$\n",
    "\n",
    "The issue in the above message aggregation process is that information from node $v$ itself **could get lost**. Because $\\mathbf{h}_v^{(l)}$ does not diretly depend on $\\mathbf{h}_v^{(l-1)}$.\n",
    "\n",
    "To address the issue, we first include message computation for the $\\mathbf{h}_v^{(l-1)}$. As such, the message compuation has two components:\n",
    "\n",
    "$$\\mathbf{m}_u^{(l)}=\\mathbf{W}^{(l)}\\left(\\mathbf{h}_u^{(l-1)}\\right)\\tag{1}\\label{eq:message1}$$\n",
    "\n",
    "$$\\mathbf{m}_v^{(l)}=\\mathbf{B}^{(l)}\\left(\\mathbf{h}_u^{(l-1)}\\right)\\tag{2}\\label{eq:message2}$$\n",
    "\n",
    "Then for the aggregation step, we further aggregate the message from node $v$ itself via **concatenation** or **summation**\n",
    "\n",
    "\n",
    "$$\\mathbf{h}_v^{(l)} = \\text{CONCAT}\\left(\\text{AGG}^{(l)}\\left(\\{\\mathbf{m}_u^{(l)},u\\in N(v)\\}\\right), \\mathbf{m}_v^{(l)} \\right)\\tag{3}\\label{eq:aggregation}$$\n",
    "\n",
    "## GCN\n",
    "\n",
    "For Graph Convolutional Networks (GCN), the message commputation and aggregation are as follows:\n",
    "\n",
    "- **Message Computation**. GCN assumes the existence of self-edges. In such a case,  information from node $v$ itself is caputured in $\\mathbf{m}_u^{(l)}$. In addition, Normalized by node degree is applied.\n",
    "\n",
    "    $$\\mathbf{m}_u^{(l)}= \\frac{1}{|\\mathrm{N}(v)|}\\mathbf{W}^{(l)} h_u^{(l-1)}$$\n",
    "\n",
    "    \n",
    "\n",
    "- **Aggregation**. the aggregation function $\\text{AGG}^{(l)}$ for GCN is $\\text{Sum}$\n",
    "\n",
    "    $$\\mathbf{h}_v^{(l)} = \\sigma\\left(\\text{Sum}\\left(\\{\\mathbf{m}_u^{(l)},u\\in N(v)\\}\\right) \\right)$$\n",
    "\n",
    "   "
   ]
  },
  {
   "cell_type": "markdown",
   "id": "8a069842-19da-4861-abd9-46e706d38a12",
   "metadata": {},
   "source": [
    "## References\n",
    "\n",
    "\\[1\\][CS224W: Machine Learning with Graphs](http://web.stanford.edu/class/cs224w/)  \n",
    "\\[2\\][A General Perspective on Graph Neural Networks Slides. Stanford CS224W: Machine Learning with Graphs | 2023](http://web.stanford.edu/class/cs224w/slides/05-GNN2.pdf)"
   ]
  }
 ],
 "metadata": {
  "kernelspec": {
   "display_name": "Python 3 (ipykernel)",
   "language": "python",
   "name": "python3"
  },
  "language_info": {
   "codemirror_mode": {
    "name": "ipython",
    "version": 3
   },
   "file_extension": ".py",
   "mimetype": "text/x-python",
   "name": "python",
   "nbconvert_exporter": "python",
   "pygments_lexer": "ipython3",
   "version": "3.9.12"
  }
 },
 "nbformat": 4,
 "nbformat_minor": 5
}
