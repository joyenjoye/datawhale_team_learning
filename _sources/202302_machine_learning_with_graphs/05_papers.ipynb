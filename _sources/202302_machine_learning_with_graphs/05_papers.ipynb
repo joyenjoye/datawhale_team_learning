{
 "cells": [
  {
   "cell_type": "markdown",
   "id": "7ea4ea63-0994-4854-9a96-5e3517daab41",
   "metadata": {},
   "source": [
    "# Task 5: Node2vec & DeepWalk\n",
    "\n",
    "**still working in progress**"
   ]
  },
  {
   "cell_type": "markdown",
   "id": "74ca0938-1d7a-4f8d-926f-6d832f041972",
   "metadata": {
    "tags": []
   },
   "source": [
    "## node2vec"
   ]
  },
  {
   "cell_type": "markdown",
   "id": "2dced66f-762b-4648-ba98-c6d7a892b352",
   "metadata": {
    "jp-MarkdownHeadingCollapsed": true,
    "tags": []
   },
   "source": [
    "\n",
    "Many important tasks in network analysis involve predictions over nodes, edges or entire network. The problem here is how to construct a feature vector representation for the nodes and edges.\n"
   ]
  },
  {
   "cell_type": "markdown",
   "id": "d92dccbf-b082-4707-aa52-f86807ae5d86",
   "metadata": {
    "tags": []
   },
   "source": [
    "### Motivation\n",
    "\n",
    "A typical solution involves hand-engineering domain-specific features based on expert knowledge. The issue with this it is timeconsuming and not generalize across different prediction tasks.\n",
    "\n",
    "An alternative solution is to learn feature representations by solving an optimization problem. \n",
    "\n",
    "- The objective function can be either task-dependent or task independent. \n",
    "- The current techniques fail to satisfactorily define and optimize a reasonable objective \n",
    "    - An objective that transforms a representative data matrix of the network such that it maximizes the variance of the data representation. \n",
    "    \n",
    "      **Computationally expensive and poor performance.**\n",
    "    - An objective that seeks to preserve local neighborhoods of nodes. Recent attempts in this direction propose efficient algorithms but rely on a rigid notion of a network neighborhood. \n",
    "        - In some case, network neighborhood is defined by communities they belong to\n",
    "        - in other cases,network neighborhood is based on structural roles in the network\n",
    "        \n",
    "       **Too restrictive to capture a variety of network neighborhood in real-world networks**\n",
    "        \n",
    "        \n",
    "Thus, it is essential to allow for a flexible algorithm that can learn node representations obeying both principles: \n",
    "\n",
    "- learn representations that embed nodes from the same network community closely together\n",
    "- learn representations where nodes that share similar roles have similar embeddings.\n"
   ]
  },
  {
   "cell_type": "markdown",
   "id": "b5cfb03a-f152-485c-aa42-a326116eeb48",
   "metadata": {},
   "source": [
    "### Algorithm\n",
    "\n",
    "\n",
    "\n",
    "**Efficacy of node2vec**\n",
    "\n",
    "- Therocially, flexibility in exploring neighborhood allows learning richer representations\n",
    "\n",
    "- Experiments shows efficacy using node2vec over existing state-of-art techincals on multilabel clasficiation and link prediction in serval real-world network from diverse domains."
   ]
  },
  {
   "cell_type": "code",
   "execution_count": null,
   "id": "4a1463f0-fd83-4ceb-a54a-b5332f0aaaa4",
   "metadata": {},
   "outputs": [],
   "source": []
  }
 ],
 "metadata": {
  "kernelspec": {
   "display_name": "Python 3 (ipykernel)",
   "language": "python",
   "name": "python3"
  },
  "language_info": {
   "codemirror_mode": {
    "name": "ipython",
    "version": 3
   },
   "file_extension": ".py",
   "mimetype": "text/x-python",
   "name": "python",
   "nbconvert_exporter": "python",
   "pygments_lexer": "ipython3",
   "version": "3.9.12"
  }
 },
 "nbformat": 4,
 "nbformat_minor": 5
}
