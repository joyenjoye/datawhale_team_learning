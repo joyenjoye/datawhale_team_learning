{
 "cells": [
  {
   "cell_type": "markdown",
   "id": "b9630ba0-e454-4e27-aedd-bf072c48b9bb",
   "metadata": {},
   "source": [
    "# Task 11: GraphSAGE\n"
   ]
  },
  {
   "cell_type": "markdown",
   "id": "63e76e66-dc72-4490-b853-1e30e07b371d",
   "metadata": {},
   "source": [
    "## References\n",
    "\n",
    "\\[1\\][CS224W: Machine Learning with Graphs](http://web.stanford.edu/class/cs224w/)  \n",
    "\\[2\\][A General Perspective on Graph Neural Networks Slides. Stanford CS224W: Machine Learning with Graphs | 2023](http://web.stanford.edu/class/cs224w/slides/05-GNN2.pdf)"
   ]
  },
  {
   "cell_type": "code",
   "execution_count": null,
   "id": "f4029df5-0732-439b-91ec-3c9ab6208342",
   "metadata": {},
   "outputs": [],
   "source": []
  }
 ],
 "metadata": {
  "kernelspec": {
   "display_name": "Python 3 (ipykernel)",
   "language": "python",
   "name": "python3"
  },
  "language_info": {
   "codemirror_mode": {
    "name": "ipython",
    "version": 3
   },
   "file_extension": ".py",
   "mimetype": "text/x-python",
   "name": "python",
   "nbconvert_exporter": "python",
   "pygments_lexer": "ipython3",
   "version": "3.9.12"
  }
 },
 "nbformat": 4,
 "nbformat_minor": 5
}
