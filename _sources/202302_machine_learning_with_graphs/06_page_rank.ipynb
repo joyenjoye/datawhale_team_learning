{
 "cells": [
  {
   "cell_type": "markdown",
   "id": "67d737aa-a3a5-411a-9cfe-820937b9d8c4",
   "metadata": {},
   "source": [
    "# Task 6: Page Rank\n",
    "\n",
    "[The PageRank Citation Ranking:\n",
    "Bringing Order to the Web](http://ilpubs.stanford.edu:8090/422/1/1999-66.pdf)"
   ]
  },
  {
   "cell_type": "code",
   "execution_count": null,
   "id": "a0a6eb3b-a861-4f15-b47c-5d1c7778d2f9",
   "metadata": {},
   "outputs": [],
   "source": []
  }
 ],
 "metadata": {
  "kernelspec": {
   "display_name": "Python 3 (ipykernel)",
   "language": "python",
   "name": "python3"
  },
  "language_info": {
   "codemirror_mode": {
    "name": "ipython",
    "version": 3
   },
   "file_extension": ".py",
   "mimetype": "text/x-python",
   "name": "python",
   "nbconvert_exporter": "python",
   "pygments_lexer": "ipython3",
   "version": "3.9.12"
  }
 },
 "nbformat": 4,
 "nbformat_minor": 5
}
