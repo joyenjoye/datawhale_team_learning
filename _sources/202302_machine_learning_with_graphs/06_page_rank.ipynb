{
 "cells": [
  {
   "cell_type": "markdown",
   "id": "67d737aa-a3a5-411a-9cfe-820937b9d8c4",
   "metadata": {},
   "source": [
    "# Task 6: Page Rank\n"
   ]
  },
  {
   "cell_type": "markdown",
   "id": "19f1c36f-a23c-45f6-94f1-dde55acc3213",
   "metadata": {},
   "source": [
    "## Motivation"
   ]
  },
  {
   "cell_type": "markdown",
   "id": "6f0ebb5b-285d-4800-a254-b92e36f0cf8c",
   "metadata": {},
   "source": [
    "Two key challenges with regards to search on the World Wide Web:\n",
    "- The information is large and heterogeneous\n",
    "- Search engines must also be able to handle inexperienced users and pages engineered to manipulate search engine ranking functions."
   ]
  },
  {
   "cell_type": "markdown",
   "id": "7bdcf02e-cde1-4112-98d1-9e3064f0b89d",
   "metadata": {},
   "source": [
    "## References\n",
    "\n",
    "\\[1\\][The PageRank Citation Ranking:Bringing Order to the Web](http://ilpubs.stanford.edu:8090/422/1/1999-66.pdf)\n",
    "\n",
    "\\[2\\][Page Rank Deck by Martin Klein and Santosh Vuppala](https://homepages.dcc.ufmg.br/~nivio/cursos/ri11/sources/pagerank.pdf)"
   ]
  }
 ],
 "metadata": {
  "kernelspec": {
   "display_name": "Python 3 (ipykernel)",
   "language": "python",
   "name": "python3"
  },
  "language_info": {
   "codemirror_mode": {
    "name": "ipython",
    "version": 3
   },
   "file_extension": ".py",
   "mimetype": "text/x-python",
   "name": "python",
   "nbconvert_exporter": "python",
   "pygments_lexer": "ipython3",
   "version": "3.9.12"
  }
 },
 "nbformat": 4,
 "nbformat_minor": 5
}
