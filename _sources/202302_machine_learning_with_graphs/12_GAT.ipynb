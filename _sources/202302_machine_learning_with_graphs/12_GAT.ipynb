{
 "cells": [
  {
   "cell_type": "markdown",
   "id": "687b76b9-c62d-46f0-b164-b79eb8449751",
   "metadata": {
    "tags": []
   },
   "source": [
    "\n",
    "# Task 12: Graph Attention Newtorks\n",
    "\n",
    "For Graph Attention Netwroks:\n",
    "\n",
    "\n",
    "$$h_v^{(l)} = \\sigma\\left(\\sum_{u\\in N(v)}\\alpha_{vu}\\mathbf{W}^{(l)}{h_u^{(l-1)}}\\right), \\quad \\forall \\, l \\in \\{0,...,L-1\\}$$\n",
    "\n",
    "Where $\\alpha_{vu}$ is attention weights. In GCN/GraphSAGE,  ITis the weighting factor (importance)\n",
    "of node $u$’s message to node $v$. It is defined explicitly based on the structural properties of the graph (node degree). All neighbors $u\\in N(v)$ are equally important to node $v$\n",
    "\n",
    "In  Graph Attention Networks, not all node’s neighbors are equally important. "
   ]
  },
  {
   "cell_type": "markdown",
   "id": "229431b8-61e5-4a96-a30a-27a62d8651f0",
   "metadata": {},
   "source": [
    "## References\n",
    "\n",
    "\\[1\\][CS224W: Machine Learning with Graphs](http://web.stanford.edu/class/cs224w/)  \n",
    "\\[2\\][A General Perspective on Graph Neural Networks Slides. Stanford CS224W: Machine Learning with Graphs | 2023](http://web.stanford.edu/class/cs224w/slides/05-GNN2.pdf)"
   ]
  }
 ],
 "metadata": {
  "kernelspec": {
   "display_name": "Python 3 (ipykernel)",
   "language": "python",
   "name": "python3"
  },
  "language_info": {
   "codemirror_mode": {
    "name": "ipython",
    "version": 3
   },
   "file_extension": ".py",
   "mimetype": "text/x-python",
   "name": "python",
   "nbconvert_exporter": "python",
   "pygments_lexer": "ipython3",
   "version": "3.9.12"
  }
 },
 "nbformat": 4,
 "nbformat_minor": 5
}
