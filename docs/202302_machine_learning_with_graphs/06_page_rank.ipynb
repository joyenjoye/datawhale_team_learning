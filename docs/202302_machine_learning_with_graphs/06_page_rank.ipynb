{
 "cells": [
  {
   "cell_type": "markdown",
   "id": "67d737aa-a3a5-411a-9cfe-820937b9d8c4",
   "metadata": {},
   "source": [
    "# Task 6: Link Analysis with PageRank\n"
   ]
  },
  {
   "cell_type": "markdown",
   "id": "128927c4-f97a-4925-a930-455db3a12f05",
   "metadata": {
    "tags": []
   },
   "source": [
    "## PageRank"
   ]
  },
  {
   "cell_type": "markdown",
   "id": "b94095ef-6578-47a7-b170-2501452bfc95",
   "metadata": {},
   "source": [
    "\n",
    "Two key challenges with regards to search on the World Wide Web:\n",
    "- The information is large and heterogeneous\n",
    "- Search engines must also be able to handle inexperienced users and pages engineered to manipulate search engine ranking functions.\n",
    "\n",
    "\n",
    "The initution behind PageRank is that a page is important if it is pointed by other important pages, which can be formulated as follows:\n",
    "- Page $i$ with importance $r_i$ has $d_i$ outlinks, each link $\\frac{r_i}{d_i}$\n",
    "- Page $j$'s importance is the sum of votes from its' incoming links\n",
    "\n",
    "    $$r_j = \\sum_{i \\rightarrow j} \\frac{r_i}{d_i}$$\n",
    " \n",
    "    where $d_i$ is the out degree of node $i$, and $i \\rightarrow j$ refers to the income page $i$ for page $j$\n",
    "    \n",
    "    \n",
    "### Matrix Formulation\n",
    "\n",
    "Let's define **stochastic adjacency matrix** $M$\n",
    "\n",
    "$$\\mathrm{If} \\quad  i \\rightarrow j  \\mathrm{,\\quad then} \\quad M_{ij} = \\frac{1}{d_i}$$\n",
    "\n",
    "Where $M_{ij}$ is $i$th item from the $j$th column of the stochastic adjacency matrix $M$.\n",
    "\n",
    "\n",
    "We further define **rank vector** $\\mathbf{r}$ or importance scores of pages. For each page, there is an entry.\n",
    "\n",
    "$$\\mathbf{r} = [r_1, r_2, ..., r_i, ...r_n]^T$$\n",
    "\n",
    "Where $r_i$ is the importance score of page $i$. $n$ is the total number of pages. The sum of the the vector equals to 1:\n",
    "\n",
    "$$\\sum_{i=1}^{n} r_i = 1$$\n",
    "\n",
    "\n",
    "### Random Walk\n"
   ]
  },
  {
   "cell_type": "markdown",
   "id": "83aad827-f531-425d-a176-be2fdecf5c4f",
   "metadata": {},
   "source": [
    "### How to Solve PageRank"
   ]
  },
  {
   "cell_type": "markdown",
   "id": "16d2405d-8e32-4798-bc4a-6b615e0c50e8",
   "metadata": {},
   "source": [
    "Given a graph with n nodes, iiterative procedure:\n",
    "- Assign each node an initial page rank\n",
    "    $$r^{0} = [\\frac{1}{n},...,\\frac{1}{n}]^T$$\n",
    "  \n",
    "   All nodes are equally important.\n",
    "\n",
    "- Calculate the page rank of each node\n",
    "\n",
    "    $$r_j^{(t+1)} = \\sum_{i \\rightarrow j} \\frac{r_i^{t}}{d_i}$$\n",
    "\n",
    "- Repeat until convergence\n",
    "\n",
    "    $$\\sum_{i=1 }^{n}|r_i^{t+1}- r_i^{t}|<\\epsilon$$\n",
    "    \n",
    "    Here $\\mathbf{L}_1$ norm is used. Other vector norm also works, e.g., Euclidean.\n",
    "    "
   ]
  },
  {
   "cell_type": "markdown",
   "id": "0b5b9618-17db-425b-866f-f127d8f0f6e3",
   "metadata": {},
   "source": [
    "### Problems with PageRank\n",
    "\n",
    "Ther are two problems with the PageRank \n",
    "\n",
    "- **Dead Ends**: some pages have no out-links and cause importance to leak out.\n",
    "\n",
    "\n",
    "\n",
    "- **Spider Traps**: all out-links are within the group which leads to all importances are absorbed by spider traps.\n",
    "\n",
    "\n",
    "\n"
   ]
  },
  {
   "cell_type": "markdown",
   "id": "c0c5a103-3d4d-4271-8b45-34e16673c602",
   "metadata": {},
   "source": [
    "## Personalized PageRank\n",
    "\n",
    "pg 41 to 54"
   ]
  },
  {
   "cell_type": "markdown",
   "id": "86921781-8688-4494-acf3-b6cd980b54ef",
   "metadata": {},
   "source": [
    "## Matrix Factorization and Node Embeddings\n",
    "\n",
    "pg 55 to 64"
   ]
  },
  {
   "cell_type": "markdown",
   "id": "7bdcf02e-cde1-4112-98d1-9e3064f0b89d",
   "metadata": {},
   "source": [
    "## References\n",
    "\n",
    "\\[1\\][The PageRank Citation Ranking:Bringing Order to the Web](http://ilpubs.stanford.edu:8090/422/1/1999-66.pdf)\n",
    "\n",
    "\\[2\\][Page Rank Deck by Martin Klein and Santosh Vuppala](https://homepages.dcc.ufmg.br/~nivio/cursos/ri11/sources/pagerank.pdf)\n",
    "\n",
    "\\[3\\][Link Analysis with PageRank Slides ](http://snap.stanford.edu/class/cs224w-2021/slides/04-pagerank.pdf)"
   ]
  }
 ],
 "metadata": {
  "kernelspec": {
   "display_name": "Python 3 (ipykernel)",
   "language": "python",
   "name": "python3"
  },
  "language_info": {
   "codemirror_mode": {
    "name": "ipython",
    "version": 3
   },
   "file_extension": ".py",
   "mimetype": "text/x-python",
   "name": "python",
   "nbconvert_exporter": "python",
   "pygments_lexer": "ipython3",
   "version": "3.9.12"
  }
 },
 "nbformat": 4,
 "nbformat_minor": 5
}
